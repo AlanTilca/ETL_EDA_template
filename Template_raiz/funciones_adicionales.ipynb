{
 "cells": [
  {
   "cell_type": "markdown",
   "metadata": {},
   "source": [
    "### Filtering and Sorting"
   ]
  },
  {
   "cell_type": "code",
   "execution_count": null,
   "metadata": {},
   "outputs": [],
   "source": [
    ".isin([lista])\n",
    "\n",
    ".str.contains('string')\n",
    "\n",
    "df2 = df.set_index('columna')\n",
    "# cambiamos el index por una columna\n",
    "df2.filter(items = [lista], axis = 0 el index y 1 es la columna)\n",
    "\n",
    "df2.filter(like = 'string', axis = 0 el index y 1 es la columna)\n",
    "# como el contains o el like de sql\n",
    "\n",
    ".sort_values(by='columna')   # .sort_index(by='columna')\n",
    "# tambien podemos ordenar dos columnas a la vez y elegir un orden \n",
    ".sort_values(by=['columna1','columna2'])"
   ]
  },
  {
   "cell_type": "markdown",
   "metadata": {},
   "source": [
    "---"
   ]
  },
  {
   "cell_type": "markdown",
   "metadata": {},
   "source": [
    "### Indexing"
   ]
  },
  {
   "cell_type": "code",
   "execution_count": null,
   "metadata": {},
   "outputs": [],
   "source": [
    "df = pd.read_csv(r\" \", index_col = \"Country\")\n",
    "# si usamos index_col cuando llamamos al csv podemos indexar con la columna que queramos\n",
    "\n",
    "df.reset_index(inplace=True) \n",
    "#y con un reset index la devolvemoriamos a su estado inicial\n",
    "\n",
    "df = df.set_index('columna')\n",
    "df = df.set_index([lista con dos columnas y asi tener dos index])\n",
    "# podriamos poner continente y pais, y luego agrupar los paises por continente con...\n",
    "df.sort_index()"
   ]
  },
  {
   "cell_type": "markdown",
   "metadata": {},
   "source": [
    "---"
   ]
  },
  {
   "cell_type": "markdown",
   "metadata": {},
   "source": [
    "### Group by and Aggregation"
   ]
  },
  {
   "cell_type": "code",
   "execution_count": null,
   "metadata": {},
   "outputs": [],
   "source": [
    "df_grouped = df.groupby('columna')\n",
    "# para poder trabajar un group by tenemos que asignarle una funcion como en SQL\n",
    "\n",
    "df_grouped.mean()\n",
    "df_grouped.count()\n",
    "df_grouped.min()\n",
    "df_grouped.max()\n",
    "df_grouped.sum()\n",
    "\n",
    "df_grouped.agg({'columna': [funciones]})\n",
    "# podemos pasar mas de una funcio a la vez con un diccionario marcando la columna y las funciones dentro de una lista\n",
    "# y como es un diccionario tambien podemos agregar otra columna con las funciones que queremos aplicarle\n",
    "\n",
    "# podemos agrupar por varias columnas\n",
    "df.groupby([lista de columnas]).mean()\n",
    "\n",
    "# podemos aplicar un describe ya que tambien es una funcion, al groupby y asi conseguir un panorama general\n",
    "df.groupby('columna').describe()"
   ]
  },
  {
   "cell_type": "markdown",
   "metadata": {},
   "source": [
    "---"
   ]
  },
  {
   "cell_type": "markdown",
   "metadata": {},
   "source": [
    "### Merge and Concatenate"
   ]
  },
  {
   "cell_type": "code",
   "execution_count": null,
   "metadata": {},
   "outputs": [],
   "source": [
    "df.merge(df2) # en este caso solo mergea todos lo que sean similares \n",
    "\n",
    "df.merge(df2, how=\"como outer, right, left o inner aunque inner viene por predeterminado\", \n",
    "         on='por que columna se conectan normalmente puede ser el id')\n",
    "\n",
    "#si usamos outer hay que tener en cuenta que al traernos todo, si hay repetidos pero no concuerdan en algunas columnas\n",
    "#esas columnas vendran nulas\n",
    "#por ejemplo si juanito esta en ambos dataframes pero su edad es distinta, habra un solo juanito PERO con edad NULA\n",
    "\n"
   ]
  }
 ],
 "metadata": {
  "language_info": {
   "name": "python"
  },
  "orig_nbformat": 4
 },
 "nbformat": 4,
 "nbformat_minor": 2
}
