{
 "cells": [
  {
   "attachments": {},
   "cell_type": "markdown",
   "metadata": {},
   "source": [
    "Este es el Notebook original, con un csv de ejemplo y todas las celdad ejecutadas para ver los resultados: [link](https://www.kaggle.com/code/robikscube/introduction-to-exploratory-data-analysis/notebook)\n",
    "\n",
    "Tambien el editor explicando todo el proceso: [link](https://www.youtube.com/watch?v=xi0vhXFPegw)\n",
    "\n",
    "*El 90% de ESTE NOTEBOOK(no del original) lo comente para poder ejecutar solo lo que necesitas.*\n",
    "\n",
    "*La mayor parte de todo lo que agregue son los procesos que el editor borra para que no se vuelva engorroso, pero que son utiles.*\n",
    "\n",
    "*Descomentar y comentar segun se necesite.*\n",
    "\n",
    "**esta parte borrenla en el notebook raiz donde trabajen**\n",
    "\n",
    "---"
   ]
  },
  {
   "attachments": {},
   "cell_type": "markdown",
   "metadata": {},
   "source": [
    "**MUY IMPORTANTE**\n",
    "\n",
    "PARA DESCOMENTAR UN BLOQUE DE CODIGO\n",
    "\n",
    "> Ctrl + K + U\n",
    "\n",
    "PARA COMENTAR UN BLOQUE DE CODIGO\n",
    "\n",
    "> Ctrl + K + C\n",
    "\n",
    "Pueden recordarlo como *Uncomment* --> U y *Comment* --> C"
   ]
  },
  {
   "attachments": {},
   "cell_type": "markdown",
   "metadata": {},
   "source": [
    "## PASO 0: Importar bibliotecas y leer datos"
   ]
  },
  {
   "cell_type": "code",
   "execution_count": 2,
   "metadata": {},
   "outputs": [],
   "source": [
    "import pandas as pd\n",
    "import numpy as np\n",
    "import matplotlib.pylab as plt\n",
    "import seaborn as sns\n",
    "plt.style.use('ggplot')"
   ]
  },
  {
   "cell_type": "code",
   "execution_count": null,
   "metadata": {},
   "outputs": [],
   "source": [
    "#pd.set_option('max_columns', 200)\n",
    "\n",
    "'''Pandas por defecto no te muestra todas las columnas del dataframe.\n",
    "Es util para la exploracion de datos tener un limite bastante alto.\n",
    "Correr despues de haber creado el dataframe, sino da error.\n",
    "'''"
   ]
  },
  {
   "cell_type": "code",
   "execution_count": null,
   "metadata": {},
   "outputs": [],
   "source": [
    "df = pd.read_csv('')"
   ]
  },
  {
   "attachments": {},
   "cell_type": "markdown",
   "metadata": {},
   "source": [
    "---"
   ]
  },
  {
   "attachments": {},
   "cell_type": "markdown",
   "metadata": {},
   "source": [
    "## PASO 1: Comprensión de datos\n",
    "\n",
    "- Dataframe `shape`\n",
    "- `head` y `tail`\n",
    "- `dtypes`\n",
    "- `describe`"
   ]
  },
  {
   "cell_type": "code",
   "execution_count": null,
   "metadata": {},
   "outputs": [],
   "source": [
    "df.shape"
   ]
  },
  {
   "cell_type": "code",
   "execution_count": null,
   "metadata": {},
   "outputs": [],
   "source": [
    "df.head(20)"
   ]
  },
  {
   "cell_type": "code",
   "execution_count": null,
   "metadata": {},
   "outputs": [],
   "source": [
    "df.columns"
   ]
  },
  {
   "cell_type": "code",
   "execution_count": null,
   "metadata": {},
   "outputs": [],
   "source": [
    "df.dtypes"
   ]
  },
  {
   "cell_type": "code",
   "execution_count": null,
   "metadata": {},
   "outputs": [],
   "source": [
    "df.describe()"
   ]
  },
  {
   "attachments": {},
   "cell_type": "markdown",
   "metadata": {},
   "source": [
    "---"
   ]
  },
  {
   "attachments": {},
   "cell_type": "markdown",
   "metadata": {},
   "source": [
    "## PASO 2: Preparación de datos\n",
    "\n",
    "- Quitar columnas y filas irrelevantes\n",
    "- Renombrar columnas\n",
    "- Identificar columnas y filas duplicadas\n"
   ]
  },
  {
   "cell_type": "code",
   "execution_count": null,
   "metadata": {},
   "outputs": [],
   "source": [
    "# df.head(20)\n",
    "# df.columns\n",
    "# df = df[['inserte columnas']].copy()\n",
    "'''Pegamos todas las columnas y removemos las que no necesitamos. \n",
    "El copy es para no trabajar en el df original\n",
    "'''\n",
    "\n",
    "#df.shape"
   ]
  },
  {
   "cell_type": "code",
   "execution_count": null,
   "metadata": {},
   "outputs": [],
   "source": [
    "#df.dtypes\n",
    "\n",
    "#df['columna de fecha'] = pd.to_datetime(df['columna de fecha'])   \n",
    "# Las columnas de fecha suelen venir en type object, es bueno cambiarlas a type datetime\n",
    "\n",
    "#pd.to_numeric['columna de tipo string'] = pd.to_numeric['columna de tipo string']\n",
    "# Algunas columnas tienen numeros pero son de tipo string, con to_numeric las cambiamos a integer\n"
   ]
  },
  {
   "cell_type": "code",
   "execution_count": null,
   "metadata": {},
   "outputs": [],
   "source": [
    "#df.columns\n",
    "\n",
    "#df = df.rename(columns={'minuscula':'Mayuscula'})\n",
    "\n",
    "# Cuando renombramos columnas(si es necesario) es buena idea tener la primera letra de todas en mayus o en lower\n",
    "#df.head(20)"
   ]
  },
  {
   "cell_type": "code",
   "execution_count": null,
   "metadata": {},
   "outputs": [],
   "source": [
    "df.isna().sum()   # Checkeamos Nulos por columna"
   ]
  },
  {
   "cell_type": "code",
   "execution_count": null,
   "metadata": {},
   "outputs": [],
   "source": [
    "#df.loc[df.duplicated()]  # Miramos explicitamente los duplicados\n",
    "#df.loc[df.duplicated(subset=['columna'])] # Miramos explicitamente los duplicados de la columna que queremos\n",
    "#df.loc[df.duplicated(subset=['columna'])].head(5)\n",
    "\n",
    "#df.query('columna' == 'nombre de dato') # Podemos hacer un query para investigar un dato especifico\n",
    "\n",
    "#df = df.loc[~df.duplicated(subset=['columna','columna_relacion','columna_relacion_2'])].reset_index(drop=True)\n",
    "\n",
    "'''Algunas columnas tendran con valores duplicados tendran relacion directa con otras.\n",
    "Hay que preguntarse POR QUE este valor esta duplicado.\n",
    "una vez mas usamos el loc para identificar estos valores pero dentro usamos ~ la almohadilla\n",
    "para invertirlos y asi solo guardar los valores que no son duplicados(incluyendo el valor original).'''\n",
    "\n",
    "#df.shape\n"
   ]
  },
  {
   "attachments": {},
   "cell_type": "markdown",
   "metadata": {},
   "source": [
    "---"
   ]
  },
  {
   "attachments": {},
   "cell_type": "markdown",
   "metadata": {},
   "source": [
    "## PASO 3: Comprensión de características(Análisis univariado)\n",
    "\n",
    "<ul>\n",
    "  <li>Trazado de distribución de características\n",
    "    <ul>\n",
    "      <li>Histograma</li>\n",
    "      <li>KDE(Estimación de Densidad de Kernel)</li>\n",
    "      <li>Boxplot</li>\n",
    "    </ul>\n",
    "  </li>\n",
    "</ul>"
   ]
  },
  {
   "cell_type": "code",
   "execution_count": null,
   "metadata": {},
   "outputs": [],
   "source": [
    "#df['Year_Introduced'].value_counts() \n",
    "# Podemos mirar la cantidad de valores unicos dentro de una columna de interes, como \"anio de creacion\" y los distintos countsXanio.\n",
    "# Por ejemplo los anios en que se hicieron montanias rusas y la cantidad de montaniasXanio.\n",
    "# Como para saber que anios tuvieron mas montanias y cuales menos, en un ejemplo de exploracion de montanias rusas claro JAJAJAJA.\n",
    "\n",
    "#ax = df['Year_Introduced'].value_counts().head(10).plot(kind='bar', title='Top 10 Years Coasters Introduced')\n",
    "#ax.set_xlabel('Year Introduced') #eje X etiqueta\n",
    "#ax.set_ylabel('Count') #eje Y etiqueta\n",
    "# Podemos averiguar por los primeros 10 anios mas relevantes \".head(10)\""
   ]
  },
  {
   "cell_type": "code",
   "execution_count": null,
   "metadata": {},
   "outputs": [],
   "source": [
    "#ax = df['Speed_mph'].plot(kind='hist', bins=20, title='Coaster Speed (mph)')\n",
    "#ax.set_xlabel('Speed (mph)')\n",
    "\n",
    "# Siguiendo el mismo ejemplo de las montanias rusas podemos averiguar la frecuencia de las velocidades.\n",
    "# De esta forma tambien podemos mirar nuestros primeros outliers."
   ]
  },
  {
   "cell_type": "code",
   "execution_count": null,
   "metadata": {},
   "outputs": [],
   "source": [
    "#ax = df['Speed_mph'].plot(kind='kde', title='Coaster Speed (mph)')\n",
    "#ax.set_xlabel('Speed (mph)')\n",
    "\n",
    "# Podemos checkear lo mismo con un KDE"
   ]
  },
  {
   "attachments": {},
   "cell_type": "markdown",
   "metadata": {},
   "source": [
    "En general pueden hacer este mismo proceso para todas las columnas individuales que quieran o que les llame la atencion, de ahi el UNIVARIADO\n",
    "\n",
    "**borren esto**"
   ]
  },
  {
   "attachments": {},
   "cell_type": "markdown",
   "metadata": {},
   "source": [
    "---"
   ]
  },
  {
   "attachments": {},
   "cell_type": "markdown",
   "metadata": {},
   "source": [
    "## PASO 4: Relación de las características\n",
    "\n",
    "- Scatterplot (Gráfico de dispersión)\n",
    "- Heatmap Correlation (Mapa de calor de correlación)\n",
    "- Pairplot (Gráfico de pares)\n",
    "- Comparaciones de agrupación"
   ]
  },
  {
   "cell_type": "code",
   "execution_count": null,
   "metadata": {},
   "outputs": [],
   "source": [
    "# df.plot(kind='scatter', \n",
    "#         x='Speed_mph', \n",
    "#         y='Height_ft', \n",
    "#         title='Coaster Speed vs. Height')\n",
    "# plt.show()\n",
    "\n",
    "# Volviendo al ejemplo de las montanias, podemos hacer una comparacion entre Velocidad y Altura.\n",
    "# Normalmente mientras mas alta la montania, mas rapida.\n",
    "# Scatterplot"
   ]
  },
  {
   "cell_type": "code",
   "execution_count": null,
   "metadata": {},
   "outputs": [],
   "source": [
    "# ax = sns.scatterplot(x='Speed_mph', \n",
    "#                      y='Height_ft', \n",
    "#                      hue='Year_Introduced', \n",
    "#                      data=df)\n",
    "# ax.set_title('Coaster Speed vs. Height')\n",
    "# plt.show()\n",
    "\n",
    "# Mismo pero con seaborn suele quedar mas lindo y tiene mas funciones"
   ]
  },
  {
   "cell_type": "code",
   "execution_count": null,
   "metadata": {},
   "outputs": [],
   "source": [
    "# sns.pairplot(df, \n",
    "#              vars=['Year_Introduced','Speed_mph','Height_ft','Inversions','Gforce'], \n",
    "#              hue='Type_Main')\n",
    "# plt.show()\n",
    "\n",
    "# Podemos hacer un pairplot para comparar muchas columnas de una vez.\n",
    "# Siempre con un HUE que tenga una caracteristica para comparar.\n",
    "# Por ejemplo TIPO DE MONTANIA de acero, madera o plastico JAJAJA"
   ]
  },
  {
   "cell_type": "code",
   "execution_count": null,
   "metadata": {},
   "outputs": [],
   "source": [
    "# df_corr = df[['Year_Introduced','Speed_mph','Height_ft','Inversions','Gforce']].dropna().corr()\n",
    "# df_corr\n",
    "\n",
    "# Podemos buscar la maztriz de correlacion entre distintas caracteristicas(columnas)"
   ]
  },
  {
   "cell_type": "code",
   "execution_count": null,
   "metadata": {},
   "outputs": [],
   "source": [
    "#sns.heatmap(df_corr, annot=True)\n",
    "\n",
    "# Tambien podemos crear un MAPA DE CALOR para decifrar mas intuitivamente las correlaciones"
   ]
  },
  {
   "attachments": {},
   "cell_type": "markdown",
   "metadata": {},
   "source": [
    "| Coeficiente de correlación positivo  | Coeficiente de correlación negativo | Coeficiente de correlación cercano a 0 |\n",
    "| ------------- | ------------- | ------------- |\n",
    "| Un valor cercano a 1 indica una correlación positiva, lo que significa que las variables tienden a aumentar o disminuir juntas. Por ejemplo, si dos variables tienen un coeficiente de correlación positivo alto, como 0.8, esto indica que cuando una variable aumenta, la otra variable también tiende a aumentar en la mayoría de los casos.  | Un valor cercano a -1 indica una correlación negativa, lo que significa que las variables tienden a moverse en direcciones opuestas. Por ejemplo, si dos variables tienen un coeficiente de correlación negativo alto, como -0.7, esto indica que cuando una variable aumenta, la otra variable tiende a disminuir en la mayoría de los casos. | Un valor cercano a 0 indica una correlación débil o ausencia de correlación lineal entre las variables. Esto significa que no hay una relación lineal clara entre las variables y su comportamiento no está directamente relacionado. |\n",
    "\n",
    "**para recordar**"
   ]
  },
  {
   "attachments": {},
   "cell_type": "markdown",
   "metadata": {},
   "source": [
    "---"
   ]
  },
  {
   "attachments": {},
   "cell_type": "markdown",
   "metadata": {},
   "source": [
    "## Paso 5: Preguntas sobre los datos\n",
    "\n",
    "- Tratar de responder una pregunta que tengas sobre los datos, usando una gráfica o estadística.\n",
    "\n",
    "Por ejemplo: Cuales son las localidades con el las montanias rusas mas rapidas en promedio? (>= a 10 montanias)"
   ]
  },
  {
   "cell_type": "code",
   "execution_count": null,
   "metadata": {},
   "outputs": [],
   "source": [
    "# ax = df.query('Location != \"Other\"') \\\n",
    "#     .groupby('Location')['Speed_mph'] \\\n",
    "#     .agg(['mean','count']) \\\n",
    "#     .query('count >= 10') \\\n",
    "#     .sort_values('mean')['mean'] \\\n",
    "#     .plot(kind='barh', figsize=(12, 5), title='Average Coast Speed by Location')\n",
    "# ax.set_xlabel('Average Coaster Speed')\n",
    "# plt.show()\n",
    "\n",
    "# Siguiendo el ejemplo de las montanias rusas podemos crear un barchart donde mostremos \n",
    "# 1. La cantidad de montanias por localidad y 2. La velocidad promedio de las montanias de esa localidad\n",
    "# Funciones clave: query para filtrar, groupby para juntar localidad y velocidad, agg para hacer las operaciones\n",
    "# sobre el groupby\n",
    "# Agregamos el ['mean'] al final para que el plot solo muestre la serie de promedio."
   ]
  }
 ],
 "metadata": {
  "kernelspec": {
   "display_name": "Python 3",
   "language": "python",
   "name": "python3"
  },
  "language_info": {
   "codemirror_mode": {
    "name": "ipython",
    "version": 3
   },
   "file_extension": ".py",
   "mimetype": "text/x-python",
   "name": "python",
   "nbconvert_exporter": "python",
   "pygments_lexer": "ipython3",
   "version": "3.11.3"
  },
  "orig_nbformat": 4
 },
 "nbformat": 4,
 "nbformat_minor": 2
}
